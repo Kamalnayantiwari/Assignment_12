{
 "cells": [
  {
   "cell_type": "code",
   "execution_count": null,
   "id": "af4a2435",
   "metadata": {},
   "outputs": [],
   "source": [
    "Q1. What is an Exception in python? Write the difference between Exceptions and Syntax errors."
   ]
  },
  {
   "cell_type": "code",
   "execution_count": null,
   "id": "888b0b50",
   "metadata": {},
   "outputs": [],
   "source": [
    "In Python, an Exception is an error that occurs during the execution of a program. When an Exception occurs, the program stops executing and Python raises an error message that describes the type of exception that occurred and the line of code where the exception occurred.\n",
    "Exceptions can occur for a variety of reasons, such as when a program tries to perform an operation on data that is not the expected type or when a program tries to access a resource that is not available. Python provides a set of built-in Exception classes that can be used to handle different types of exceptions.\n",
    "Syntax errors, on the other hand, occur when there is a problem with the syntax of the Python code itself. These errors occur before the program is executed and are caught by the Python interpreter before the code is run. Examples of syntax errors include forgetting to close a parentheses or a quotation mark, or using an incorrect keyword or operator.\n",
    "Here's an example that demonstrates the difference between Exceptions and Syntax errors:"
   ]
  },
  {
   "cell_type": "code",
   "execution_count": 1,
   "id": "ff6d5b47",
   "metadata": {},
   "outputs": [
    {
     "ename": "SyntaxError",
     "evalue": "invalid syntax (627938288.py, line 8)",
     "output_type": "error",
     "traceback": [
      "\u001b[0;36m  Cell \u001b[0;32mIn[1], line 8\u001b[0;36m\u001b[0m\n\u001b[0;31m    if b = 5:\u001b[0m\n\u001b[0m         ^\u001b[0m\n\u001b[0;31mSyntaxError\u001b[0m\u001b[0;31m:\u001b[0m invalid syntax\n"
     ]
    }
   ],
   "source": [
    "# Example of an Exception\n",
    "try:\n",
    "    a = 10 / 0\n",
    "except ZeroDivisionError:\n",
    "    print(\"Error: Division by zero\")\n",
    "# Example of a Syntax error\n",
    "b = 10\n",
    "if b = 5:\n",
    "    print(\"b is equal to 5\")"
   ]
  },
  {
   "cell_type": "code",
   "execution_count": null,
   "id": "7d15bdbf",
   "metadata": {},
   "outputs": [],
   "source": [
    "In the first example, we try to divide the number 10 by 0, which is not allowed. This causes a ZeroDivisionError Exception to be raised, which we catch and handle by printing an error message.\n",
    "In the second example, we have a syntax error in the if statement, where we are using the assignment operator (=) instead of the equality operator (==). This causes a syntax error, which is caught by the Python interpreter and prevents the program from executing.\n",
    "In summary, Exceptions are errors that occur during the execution of a program, while Syntax errors are errors that occur before the program is executed, due to problems with the syntax of the Python code itself."
   ]
  },
  {
   "cell_type": "code",
   "execution_count": null,
   "id": "6fb9ec30",
   "metadata": {},
   "outputs": [],
   "source": [
    "Q2. What happens when an exception is not handled? Explain with an example"
   ]
  },
  {
   "cell_type": "code",
   "execution_count": null,
   "id": "ba17c3d2",
   "metadata": {},
   "outputs": [],
   "source": [
    "When an exception is not handled in a Python program, it will cause the program to terminate and an error message will be displayed that describes the type of exception that occurred and the line of code where the exception occurred.\n",
    "Here's an example that demonstrates what happens when an exception is not handled:"
   ]
  },
  {
   "cell_type": "code",
   "execution_count": 2,
   "id": "18f099b6",
   "metadata": {},
   "outputs": [
    {
     "ename": "ZeroDivisionError",
     "evalue": "division by zero",
     "output_type": "error",
     "traceback": [
      "\u001b[0;31m---------------------------------------------------------------------------\u001b[0m",
      "\u001b[0;31mZeroDivisionError\u001b[0m                         Traceback (most recent call last)",
      "Cell \u001b[0;32mIn[2], line 2\u001b[0m\n\u001b[1;32m      1\u001b[0m \u001b[38;5;66;03m# Example of an unhandled exception\u001b[39;00m\n\u001b[0;32m----> 2\u001b[0m a \u001b[38;5;241m=\u001b[39m \u001b[38;5;241;43m10\u001b[39;49m\u001b[43m \u001b[49m\u001b[38;5;241;43m/\u001b[39;49m\u001b[43m \u001b[49m\u001b[38;5;241;43m0\u001b[39;49m\n\u001b[1;32m      3\u001b[0m \u001b[38;5;28mprint\u001b[39m(\u001b[38;5;124m\"\u001b[39m\u001b[38;5;124mResult: \u001b[39m\u001b[38;5;124m\"\u001b[39m, a)\n",
      "\u001b[0;31mZeroDivisionError\u001b[0m: division by zero"
     ]
    }
   ],
   "source": [
    "# Example of an unhandled exception\n",
    "a = 10 / 0\n",
    "print(\"Result: \", a)"
   ]
  },
  {
   "cell_type": "code",
   "execution_count": null,
   "id": "1da2ead7",
   "metadata": {},
   "outputs": [],
   "source": [
    "As we can see from the error message, Python tells us that a ZeroDivisionError occurred and that it was caused by a division by zero on line 1 of the code. The \"Traceback\" section of the error message shows the sequence of function calls that led to the exception.\n",
    "In summary, if an exception is not handled in a Python program, it will cause the program to terminate and display an error message that describes the type of exception that occurred and the line of code where the exception occurred. It's important to handle exceptions in your code to prevent unexpected program termination and to provide a graceful way to handle errors."
   ]
  },
  {
   "cell_type": "code",
   "execution_count": null,
   "id": "4c9aca0b",
   "metadata": {},
   "outputs": [],
   "source": [
    "Q3. Which Python statements are used to catch and handle exceptions? Explain with an example"
   ]
  },
  {
   "cell_type": "code",
   "execution_count": null,
   "id": "f6abd447",
   "metadata": {},
   "outputs": [],
   "source": [
    "In Python, the try and except statements are used to catch and handle exceptions. The try statement is used to enclose a block of code that might raise an exception, while the except statement is used to specify how to handle the exception if one is raised.\n",
    "Here's an example that demonstrates how to catch and handle an exception in Python using try and except:"
   ]
  },
  {
   "cell_type": "code",
   "execution_count": 3,
   "id": "de9de295",
   "metadata": {},
   "outputs": [
    {
     "name": "stdout",
     "output_type": "stream",
     "text": [
      "Error: Division by zero\n"
     ]
    }
   ],
   "source": [
    "try:\n",
    "    a = 10 / 0\n",
    "except ZeroDivisionError:\n",
    "    print(\"Error: Division by zero\")"
   ]
  },
  {
   "cell_type": "code",
   "execution_count": null,
   "id": "72ef90fa",
   "metadata": {},
   "outputs": [],
   "source": [
    "Q4. Explain with an example:\n",
    "a. try and else b. finally c. raise"
   ]
  },
  {
   "cell_type": "code",
   "execution_count": null,
   "id": "75484463",
   "metadata": {},
   "outputs": [],
   "source": [
    "In Python, the try statement can be followed by an optional else block. The else block is executed only if the try block does not raise an exception. It is often used to specify code that should be executed regardless of whether an exception occurred or not. Here's an example:\n",
    "python Copy code try:"
   ]
  },
  {
   "cell_type": "code",
   "execution_count": 4,
   "id": "8a15ae53",
   "metadata": {},
   "outputs": [
    {
     "name": "stdout",
     "output_type": "stream",
     "text": [
      "a = 2.0\n"
     ]
    }
   ],
   "source": [
    "try:\n",
    "    a = 10 / 5\n",
    "except ZeroDivisionError:\n",
    "    print(\"Error: Division by zero\")\n",
    "else:\n",
    "    print(\"a =\", a)"
   ]
  },
  {
   "cell_type": "code",
   "execution_count": null,
   "id": "734e8efc",
   "metadata": {},
   "outputs": [],
   "source": [
    "b. finally:\n",
    "In Python, the finally block can be used to specify code that should be executed regardless of whether an exception was raised or not. The finally block is always executed, even if an exception occurred and was caught by an except block. Here's an example:"
   ]
  },
  {
   "cell_type": "code",
   "execution_count": null,
   "id": "72f05ae1",
   "metadata": {},
   "outputs": [],
   "source": [
    "try:\n",
    "    file = open(\"example.txt\", \"r\")\n",
    "    contents = file.read()\n",
    "    print(contents)\n",
    "except FileNotFoundError:\n",
    "    print(\"Error: File not found\")\n",
    "finally:\n",
    "    file.close()"
   ]
  },
  {
   "cell_type": "code",
   "execution_count": null,
   "id": "6691f9c3",
   "metadata": {},
   "outputs": [],
   "source": [
    "c. raise:\n",
    "In Python, the raise statement can be used to raise an exception manually. It is often used to indicate that an error has occurred and to stop the execution of the program. Here's an example:"
   ]
  },
  {
   "cell_type": "code",
   "execution_count": 7,
   "id": "53e6da39",
   "metadata": {},
   "outputs": [
    {
     "name": "stdout",
     "output_type": "stream",
     "text": [
      "Error: Division by zero\n"
     ]
    }
   ],
   "source": [
    "def divide(a, b):\n",
    "    if b == 0:\n",
    "        raise ZeroDivisionError(\"Error: Division by zero\")\n",
    "    else:\n",
    "        return a / b\n",
    "try:\n",
    "    result = divide(10, 0)\n",
    "except ZeroDivisionError as e:\n",
    "    print(e)"
   ]
  },
  {
   "cell_type": "code",
   "execution_count": null,
   "id": "18d16d49",
   "metadata": {},
   "outputs": [],
   "source": [
    "Q5. What are Custom Exceptions in python? Why do we need Custom Exceptions? Explain with an example"
   ]
  },
  {
   "cell_type": "code",
   "execution_count": null,
   "id": "4d170cd8",
   "metadata": {},
   "outputs": [],
   "source": [
    "In Python, custom exceptions can be defined by creating a new class that inherits from the built-in Exception class. These custom exceptions can be used to represent specific error conditions that are not covered by the built-in exceptions, and can provide more specific information about what went wrong in the code.\n",
    "We need custom exceptions in Python when we want to raise exceptions that are specific to our own code or application. By creating custom exceptions, we can give more meaningful error messages and provide better feedback to the user. This can help with debugging and troubleshooting, and can make our code more readable and maintainable.\n",
    "Here's an example of how to create a custom exception in Python:"
   ]
  },
  {
   "cell_type": "code",
   "execution_count": 8,
   "id": "756dcc5d",
   "metadata": {},
   "outputs": [
    {
     "name": "stdout",
     "output_type": "stream",
     "text": [
      "Error: Negative number not allowed: -5\n"
     ]
    }
   ],
   "source": [
    "class NegativeNumberError(Exception):\n",
    "    def __init__(self, number):\n",
    "        self.number = number\n",
    "        self.message = \"Error: Negative number not allowed\"\n",
    "        super().__init__(self.message)\n",
    "    def __str__(self):\n",
    "        return f\"{self.message}: {self.number}\"\n",
    "def divide(a, b):\n",
    "    if b < 0:\n",
    "        raise NegativeNumberError(b)\n",
    "    else:\n",
    "        return a / b\n",
    "try:\n",
    "    result = divide(10, -5)\n",
    "except NegativeNumberError as e:\n",
    "    print(e)"
   ]
  },
  {
   "cell_type": "code",
   "execution_count": null,
   "id": "0c98db8d",
   "metadata": {},
   "outputs": [],
   "source": [
    "Q6. Create custom exception class. Use this class to handle an exception."
   ]
  },
  {
   "cell_type": "code",
   "execution_count": 9,
   "id": "af5fc769",
   "metadata": {},
   "outputs": [
    {
     "name": "stdout",
     "output_type": "stream",
     "text": [
      "Error: Division by zero not allowed\n"
     ]
    }
   ],
   "source": [
    "class CustomException(Exception):\n",
    "    def __init__(self, message):\n",
    "        self.message = message\n",
    "        super().__init__(self.message)\n",
    "def divide(a, b):\n",
    "    if b == 0:\n",
    "        raise CustomException(\"Error: Division by zero not allowed\")\n",
    "    else:\n",
    "        return a / b\n",
    "try:\n",
    "    result = divide(10, 0)\n",
    "except CustomException as e:\n",
    "    print(e.message)"
   ]
  },
  {
   "cell_type": "code",
   "execution_count": null,
   "id": "cf5bd7fd",
   "metadata": {},
   "outputs": [],
   "source": []
  }
 ],
 "metadata": {
  "kernelspec": {
   "display_name": "Python 3 (ipykernel)",
   "language": "python",
   "name": "python3"
  },
  "language_info": {
   "codemirror_mode": {
    "name": "ipython",
    "version": 3
   },
   "file_extension": ".py",
   "mimetype": "text/x-python",
   "name": "python",
   "nbconvert_exporter": "python",
   "pygments_lexer": "ipython3",
   "version": "3.9.7"
  }
 },
 "nbformat": 4,
 "nbformat_minor": 5
}
